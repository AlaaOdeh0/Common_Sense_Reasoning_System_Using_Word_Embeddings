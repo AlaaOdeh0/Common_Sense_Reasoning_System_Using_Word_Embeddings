{
 "cells": [
  {
   "cell_type": "code",
   "execution_count": 1,
   "id": "2cc40825",
   "metadata": {},
   "outputs": [],
   "source": [
    "import csv\n",
    "import json\n",
    "import numpy as np\n",
    "import pandas as pd\n",
    "import gensim.downloader as api\n",
    "from gensim.models import KeyedVectors\n",
    "from sklearn.dummy import DummyClassifier\n",
    "from sklearn.metrics import accuracy_score\n",
    "from sklearn.linear_model import LogisticRegression\n",
    "from sklearn.feature_extraction.text import CountVectorizer\n",
    "from sklearn.model_selection import train_test_split  "
   ]
  },
  {
   "cell_type": "code",
   "execution_count": 2,
   "id": "00a7f8c8",
   "metadata": {},
   "outputs": [],
   "source": [
    "# load Word2Vec model from gensim\n",
    "word2vec_model = api.load(\"word2vec-google-news-300\")"
   ]
  },
  {
   "cell_type": "code",
   "execution_count": 3,
   "id": "06fcff73",
   "metadata": {},
   "outputs": [],
   "source": [
    "# Load fastText model\n",
    "fasttext_model = api.load('fasttext-wiki-news-subwords-300')"
   ]
  },
  {
   "cell_type": "code",
   "execution_count": 4,
   "id": "c510019e",
   "metadata": {},
   "outputs": [],
   "source": [
    "# Load GloVe model\n",
    "glove_model = api.load(\"glove-wiki-gigaword-300\")"
   ]
  },
  {
   "cell_type": "code",
   "execution_count": 14,
   "id": "98710c50",
   "metadata": {},
   "outputs": [
    {
     "name": "stdout",
     "output_type": "stream",
     "text": [
      "CSV file created is done.\n"
     ]
    }
   ],
   "source": [
    "# Read JSON file and write data to CSV file\n",
    "with open('train_rand_split.jsonl', 'r', encoding='utf-8') as json_file, open('data.csv', 'w', newline='', encoding='utf-8') as csv_file:\n",
    "    writer = csv.writer(csv_file)\n",
    "    \n",
    "    # Write header\n",
    "    writer.writerow(['answerKey', 'id', 'question_concept', 'stem', 'choice_label', 'choice_text'])\n",
    "    \n",
    "    # Process each line in JSON lines file\n",
    "    for line in json_file:\n",
    "        data = json.loads(line)\n",
    "        \n",
    "        # Extract \n",
    "        answer_key = data['answerKey']\n",
    "        question_id = data['id']\n",
    "        question_concept = data['question']['question_concept']\n",
    "        stem = data['question']['stem']\n",
    "        \n",
    "        # Extract choices\n",
    "        choices = data['question']['choices']\n",
    "        for choice in choices:\n",
    "            choice_label = choice['label']\n",
    "            choice_text = choice['text']\n",
    "            \n",
    "            # Write data to CSV file\n",
    "            writer.writerow([answer_key, question_id, question_concept, stem, choice_label, choice_text])\n",
    "\n",
    "print(\"CSV file created is done.\")"
   ]
  },
  {
   "cell_type": "code",
   "execution_count": 15,
   "id": "8b885499",
   "metadata": {},
   "outputs": [],
   "source": [
    "data = pd.read_csv('data.csv')"
   ]
  },
  {
   "cell_type": "code",
   "execution_count": 16,
   "id": "e21b1764",
   "metadata": {},
   "outputs": [],
   "source": [
    "# Split the data ==> features (X) and labels (y)\n",
    "X_text = data[['stem', 'choice_text']]  # stem and choice_text ==> as features\n",
    "y = data['answerKey']"
   ]
  },
  {
   "cell_type": "code",
   "execution_count": 17,
   "id": "fe208fcb",
   "metadata": {},
   "outputs": [],
   "source": [
    "# generate word embeddings for text --> using a given word embedding model\n",
    "def generate_word_embeddings(text_column, word_embedding_model):\n",
    "    word_embeddings = []\n",
    "    for text in text_column:\n",
    "        words = text.split()\n",
    "        embeddings = [word_embedding_model.get_vector(word) for word in words if word in word_embedding_model.key_to_index]\n",
    "        if embeddings:\n",
    "            avg_embedding = np.mean(embeddings, axis=0)\n",
    "            word_embeddings.append(avg_embedding)\n",
    "        else:\n",
    "            # If no embeddings found for any word, use zero vector\n",
    "            word_embeddings.append(np.zeros(word_embedding_model.vector_size))\n",
    "    return np.array(word_embeddings)\n"
   ]
  },
  {
   "cell_type": "code",
   "execution_count": 18,
   "id": "29ceabd6",
   "metadata": {},
   "outputs": [],
   "source": [
    "# Generate word embeddings for each text column using different word embedding models: \n",
    "X_word2vec_stem = generate_word_embeddings(X_text['stem'], word2vec_model)\n",
    "X_word2vec_choice = generate_word_embeddings(X_text['choice_text'], word2vec_model)\n",
    "\n",
    "X_fasttext_stem = generate_word_embeddings(X_text['stem'], fasttext_model)\n",
    "X_fasttext_choice = generate_word_embeddings(X_text['choice_text'], fasttext_model)\n",
    "\n",
    "X_glove_stem = generate_word_embeddings(X_text['stem'], glove_model)\n",
    "X_glove_choice = generate_word_embeddings(X_text['choice_text'], glove_model)"
   ]
  },
  {
   "cell_type": "code",
   "execution_count": 19,
   "id": "c38453c7",
   "metadata": {},
   "outputs": [],
   "source": [
    "# Split the data ==> training + testing sets\n",
    "X_train, X_test, y_train, y_test = train_test_split(X_word2vec_stem, y, test_size=0.2, random_state=42)"
   ]
  },
  {
   "cell_type": "code",
   "execution_count": 20,
   "id": "112799cf",
   "metadata": {},
   "outputs": [
    {
     "name": "stderr",
     "output_type": "stream",
     "text": [
      "C:\\Users\\Alaa_Abdallah\\anaconda3\\New folder\\lib\\site-packages\\sklearn\\linear_model\\_logistic.py:458: ConvergenceWarning: lbfgs failed to converge (status=1):\n",
      "STOP: TOTAL NO. of ITERATIONS REACHED LIMIT.\n",
      "\n",
      "Increase the number of iterations (max_iter) or scale the data as shown in:\n",
      "    https://scikit-learn.org/stable/modules/preprocessing.html\n",
      "Please also refer to the documentation for alternative solver options:\n",
      "    https://scikit-learn.org/stable/modules/linear_model.html#logistic-regression\n",
      "  n_iter_i = _check_optimize_result(\n",
      "C:\\Users\\Alaa_Abdallah\\anaconda3\\New folder\\lib\\site-packages\\sklearn\\linear_model\\_logistic.py:458: ConvergenceWarning: lbfgs failed to converge (status=1):\n",
      "STOP: TOTAL NO. of ITERATIONS REACHED LIMIT.\n",
      "\n",
      "Increase the number of iterations (max_iter) or scale the data as shown in:\n",
      "    https://scikit-learn.org/stable/modules/preprocessing.html\n",
      "Please also refer to the documentation for alternative solver options:\n",
      "    https://scikit-learn.org/stable/modules/linear_model.html#logistic-regression\n",
      "  n_iter_i = _check_optimize_result(\n",
      "C:\\Users\\Alaa_Abdallah\\anaconda3\\New folder\\lib\\site-packages\\sklearn\\linear_model\\_logistic.py:458: ConvergenceWarning: lbfgs failed to converge (status=1):\n",
      "STOP: TOTAL NO. of ITERATIONS REACHED LIMIT.\n",
      "\n",
      "Increase the number of iterations (max_iter) or scale the data as shown in:\n",
      "    https://scikit-learn.org/stable/modules/preprocessing.html\n",
      "Please also refer to the documentation for alternative solver options:\n",
      "    https://scikit-learn.org/stable/modules/linear_model.html#logistic-regression\n",
      "  n_iter_i = _check_optimize_result(\n"
     ]
    },
    {
     "data": {
      "text/html": [
       "<style>#sk-container-id-1 {color: black;background-color: white;}#sk-container-id-1 pre{padding: 0;}#sk-container-id-1 div.sk-toggleable {background-color: white;}#sk-container-id-1 label.sk-toggleable__label {cursor: pointer;display: block;width: 100%;margin-bottom: 0;padding: 0.3em;box-sizing: border-box;text-align: center;}#sk-container-id-1 label.sk-toggleable__label-arrow:before {content: \"▸\";float: left;margin-right: 0.25em;color: #696969;}#sk-container-id-1 label.sk-toggleable__label-arrow:hover:before {color: black;}#sk-container-id-1 div.sk-estimator:hover label.sk-toggleable__label-arrow:before {color: black;}#sk-container-id-1 div.sk-toggleable__content {max-height: 0;max-width: 0;overflow: hidden;text-align: left;background-color: #f0f8ff;}#sk-container-id-1 div.sk-toggleable__content pre {margin: 0.2em;color: black;border-radius: 0.25em;background-color: #f0f8ff;}#sk-container-id-1 input.sk-toggleable__control:checked~div.sk-toggleable__content {max-height: 200px;max-width: 100%;overflow: auto;}#sk-container-id-1 input.sk-toggleable__control:checked~label.sk-toggleable__label-arrow:before {content: \"▾\";}#sk-container-id-1 div.sk-estimator input.sk-toggleable__control:checked~label.sk-toggleable__label {background-color: #d4ebff;}#sk-container-id-1 div.sk-label input.sk-toggleable__control:checked~label.sk-toggleable__label {background-color: #d4ebff;}#sk-container-id-1 input.sk-hidden--visually {border: 0;clip: rect(1px 1px 1px 1px);clip: rect(1px, 1px, 1px, 1px);height: 1px;margin: -1px;overflow: hidden;padding: 0;position: absolute;width: 1px;}#sk-container-id-1 div.sk-estimator {font-family: monospace;background-color: #f0f8ff;border: 1px dotted black;border-radius: 0.25em;box-sizing: border-box;margin-bottom: 0.5em;}#sk-container-id-1 div.sk-estimator:hover {background-color: #d4ebff;}#sk-container-id-1 div.sk-parallel-item::after {content: \"\";width: 100%;border-bottom: 1px solid gray;flex-grow: 1;}#sk-container-id-1 div.sk-label:hover label.sk-toggleable__label {background-color: #d4ebff;}#sk-container-id-1 div.sk-serial::before {content: \"\";position: absolute;border-left: 1px solid gray;box-sizing: border-box;top: 0;bottom: 0;left: 50%;z-index: 0;}#sk-container-id-1 div.sk-serial {display: flex;flex-direction: column;align-items: center;background-color: white;padding-right: 0.2em;padding-left: 0.2em;position: relative;}#sk-container-id-1 div.sk-item {position: relative;z-index: 1;}#sk-container-id-1 div.sk-parallel {display: flex;align-items: stretch;justify-content: center;background-color: white;position: relative;}#sk-container-id-1 div.sk-item::before, #sk-container-id-1 div.sk-parallel-item::before {content: \"\";position: absolute;border-left: 1px solid gray;box-sizing: border-box;top: 0;bottom: 0;left: 50%;z-index: -1;}#sk-container-id-1 div.sk-parallel-item {display: flex;flex-direction: column;z-index: 1;position: relative;background-color: white;}#sk-container-id-1 div.sk-parallel-item:first-child::after {align-self: flex-end;width: 50%;}#sk-container-id-1 div.sk-parallel-item:last-child::after {align-self: flex-start;width: 50%;}#sk-container-id-1 div.sk-parallel-item:only-child::after {width: 0;}#sk-container-id-1 div.sk-dashed-wrapped {border: 1px dashed gray;margin: 0 0.4em 0.5em 0.4em;box-sizing: border-box;padding-bottom: 0.4em;background-color: white;}#sk-container-id-1 div.sk-label label {font-family: monospace;font-weight: bold;display: inline-block;line-height: 1.2em;}#sk-container-id-1 div.sk-label-container {text-align: center;}#sk-container-id-1 div.sk-container {/* jupyter's `normalize.less` sets `[hidden] { display: none; }` but bootstrap.min.css set `[hidden] { display: none !important; }` so we also need the `!important` here to be able to override the default hidden behavior on the sphinx rendered scikit-learn.org. See: https://github.com/scikit-learn/scikit-learn/issues/21755 */display: inline-block !important;position: relative;}#sk-container-id-1 div.sk-text-repr-fallback {display: none;}</style><div id=\"sk-container-id-1\" class=\"sk-top-container\"><div class=\"sk-text-repr-fallback\"><pre>LogisticRegression()</pre><b>In a Jupyter environment, please rerun this cell to show the HTML representation or trust the notebook. <br />On GitHub, the HTML representation is unable to render, please try loading this page with nbviewer.org.</b></div><div class=\"sk-container\" hidden><div class=\"sk-item\"><div class=\"sk-estimator sk-toggleable\"><input class=\"sk-toggleable__control sk-hidden--visually\" id=\"sk-estimator-id-1\" type=\"checkbox\" checked><label for=\"sk-estimator-id-1\" class=\"sk-toggleable__label sk-toggleable__label-arrow\">LogisticRegression</label><div class=\"sk-toggleable__content\"><pre>LogisticRegression()</pre></div></div></div></div></div>"
      ],
      "text/plain": [
       "LogisticRegression()"
      ]
     },
     "execution_count": 20,
     "metadata": {},
     "output_type": "execute_result"
    }
   ],
   "source": [
    "# Train logistic regression models for each word embedding model\n",
    "model_word2vec = LogisticRegression()\n",
    "model_word2vec.fit(X_train, y_train)\n",
    "\n",
    "# Assuming X_fasttext_stem and X_glove_stem are the appropriate feature matrices for fastText and GloVe respectively\n",
    "# If not, replace them with the correct feature matrices\n",
    "X_fasttext_stem_train, X_fasttext_stem_test = train_test_split(X_fasttext_stem, test_size=0.2, random_state=42)\n",
    "X_glove_stem_train, X_glove_stem_test = train_test_split(X_glove_stem, test_size=0.2, random_state=42)\n",
    "\n",
    "model_fasttext = LogisticRegression()\n",
    "model_fasttext.fit(X_fasttext_stem_train, y_train)\n",
    "\n",
    "model_glove = LogisticRegression()    \n",
    "model_glove.fit(X_glove_stem_train, y_train)  "
   ]
  },
  {
   "cell_type": "code",
   "execution_count": 21,
   "id": "460ffd48",
   "metadata": {},
   "outputs": [
    {
     "name": "stdout",
     "output_type": "stream",
     "text": [
      "Accuracy for Word2Vec model: 0.28600759675597986\n",
      "Accuracy for fastText model: 0.2584950210450672\n",
      "Accuracy for GloVe model: 0.2651678472436095\n"
     ]
    }
   ],
   "source": [
    "# Evaluate accuracy for each model\n",
    "y_pred_word2vec = model_word2vec.predict(X_test)\n",
    "accuracy_word2vec = accuracy_score(y_test, y_pred_word2vec)\n",
    "print(\"Accuracy for Word2Vec model:\", accuracy_word2vec)\n",
    "\n",
    "y_pred_fasttext = model_fasttext.predict(X_fasttext_stem_test)\n",
    "accuracy_fasttext = accuracy_score(y_test, y_pred_fasttext)\n",
    "print(\"Accuracy for fastText model:\", accuracy_fasttext)\n",
    "\n",
    "y_pred_glove = model_glove.predict(X_glove_stem_test)\n",
    "accuracy_glove = accuracy_score(y_test, y_pred_glove)\n",
    "print(\"Accuracy for GloVe model:\", accuracy_glove)"
   ]
  },
  {
   "cell_type": "code",
   "execution_count": 22,
   "id": "9289c470",
   "metadata": {},
   "outputs": [
    {
     "name": "stdout",
     "output_type": "stream",
     "text": [
      "Baseline accuracy: 0.20141669233138282\n"
     ]
    }
   ],
   "source": [
    "# Train a baseline model using DummyClassifier\n",
    "baseline_model = DummyClassifier(strategy=\"most_frequent\")\n",
    "baseline_model.fit(X_train, y_train)\n",
    "\n",
    "# Evaluate accuracy for the baseline model\n",
    "baseline_accuracy = baseline_model.score(X_test, y_test)\n",
    "print(\"Baseline accuracy:\", baseline_accuracy)"
   ]
  },
  {
   "cell_type": "code",
   "execution_count": 23,
   "id": "643b8d90",
   "metadata": {},
   "outputs": [],
   "source": [
    "# Calculate the differences in accuracies for each model\n",
    "word2vec_diff = accuracy_word2vec - baseline_accuracy\n",
    "fasttext_diff = accuracy_fasttext - baseline_accuracy\n",
    "glove_diff = accuracy_glove - baseline_accuracy"
   ]
  },
  {
   "cell_type": "code",
   "execution_count": 24,
   "id": "c70e2a23",
   "metadata": {},
   "outputs": [
    {
     "name": "stdout",
     "output_type": "stream",
     "text": [
      "Word2Vec model outperforms the baseline by: 0.08459090442459705\n",
      "fastText model outperforms the baseline by: 0.0570783287136844\n",
      "GloVe model outperforms the baseline by: 0.06375115491222666\n"
     ]
    }
   ],
   "source": [
    "# Check if each model outperforms the baseline\n",
    "if word2vec_diff > 0:\n",
    "    print(\"Word2Vec model outperforms the baseline by:\", word2vec_diff)\n",
    "else:\n",
    "    print(\"Word2Vec model does not outperform the baseline.\")\n",
    "\n",
    "if fasttext_diff > 0:\n",
    "    print(\"fastText model outperforms the baseline by:\", fasttext_diff)\n",
    "else:\n",
    "    print(\"fastText model does not outperform the baseline.\")\n",
    "\n",
    "if glove_diff > 0:\n",
    "    print(\"GloVe model outperforms the baseline by:\", glove_diff)\n",
    "else:\n",
    "    print(\"GloVe model does not outperform the baseline.\")\n"
   ]
  }
 ],
 "metadata": {
  "kernelspec": {
   "display_name": "Python 3 (ipykernel)",
   "language": "python",
   "name": "python3"
  },
  "language_info": {
   "codemirror_mode": {
    "name": "ipython",
    "version": 3
   },
   "file_extension": ".py",
   "mimetype": "text/x-python",
   "name": "python",
   "nbconvert_exporter": "python",
   "pygments_lexer": "ipython3",
   "version": "3.10.9"
  }
 },
 "nbformat": 4,
 "nbformat_minor": 5
}
